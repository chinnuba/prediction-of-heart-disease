{
 "cells": [
  {
   "cell_type": "code",
   "execution_count": null,
   "metadata": {},
   "outputs": [],
   "source": [
    "import sys"
   ]
  },
  {
   "cell_type": "code",
   "execution_count": null,
   "metadata": {},
   "outputs": [],
   "source": [
    "# Global variables\n",
    "gitBranch = 'feature/data_preprocessing'\n",
    "datasetFilePath = 'data/HeartDiseaseTrain-Test.csv'\n"
   ]
  },
  {
   "cell_type": "code",
   "execution_count": null,
   "metadata": {},
   "outputs": [],
   "source": [
    "# Clone the repository manually\n",
    "!git clone -b {gitBranch} https://github.com/chinnuba/prediction-of-heart-disease.git\n",
    "%cd prediction-of-heart-disease\n",
    "\n",
    "# Append the src directory to sys.path\n",
    "sys.path.append('src')"
   ]
  },
  {
   "cell_type": "code",
   "execution_count": null,
   "metadata": {},
   "outputs": [],
   "source": [
    "from src.setup import load_dataset\n",
    "from src.preprocess import clean_and_preprocess\n",
    "from src.data_visualizer import DataVisualizer"
   ]
  },
  {
   "cell_type": "code",
   "execution_count": null,
   "metadata": {},
   "outputs": [],
   "source": [
    "# Load dataset\n",
    "df = load_dataset(datasetFilePath)"
   ]
  },
  {
   "cell_type": "code",
   "execution_count": null,
   "metadata": {},
   "outputs": [],
   "source": [
    "# Display the first few rows of the dataset\n",
    "df.head(), df.info(), df.describe()"
   ]
  },
  {
   "cell_type": "code",
   "execution_count": null,
   "metadata": {},
   "outputs": [],
   "source": [
    "# Initialize the DataVisualizer class\n",
    "visualizer = DataVisualizer(df)\n",
    "\n",
    "# Visualize Data\n",
    "visualizer.histogram_boxplot()\n",
    "visualizer.pair_plot()\n",
    "visualizer.scatter_plot('age', 'cholestoral')\n",
    "visualizer.count_plot('cholestoral')\n",
    "visualizer.violin_plot('cholestoral', 'sex')\n",
    "visualizer.distribution_plot('Max_heart_rate')\n",
    "# visualizer.correlation_heatmap()"
   ]
  },
  {
   "cell_type": "code",
   "execution_count": null,
   "metadata": {},
   "outputs": [],
   "source": [
    "# Clean and preprocess data\n",
    "X_train, X_test, y_train, y_test = clean_and_preprocess(df)\n",
    "\n",
    "# Print shapes\n",
    "print(X_train.shape, X_test.shape, y_train.shape, y_test.shape)"
   ]
  }
 ],
 "metadata": {
  "language_info": {
   "name": "python"
  }
 },
 "nbformat": 4,
 "nbformat_minor": 2
}
