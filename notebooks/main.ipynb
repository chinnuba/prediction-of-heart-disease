{
 "cells": [
  {
   "cell_type": "code",
   "execution_count": null,
   "metadata": {},
   "outputs": [],
   "source": [
    "import sys"
   ]
  },
  {
   "cell_type": "code",
   "execution_count": null,
   "metadata": {},
   "outputs": [],
   "source": [
    "# Global variables\n",
    "gitBranch = 'main'\n",
    "datasetFilePath = 'data/HeartDiseaseTrain-Test.csv'\n"
   ]
  },
  {
   "cell_type": "code",
   "execution_count": null,
   "metadata": {},
   "outputs": [],
   "source": [
    "# Clone the repository manually\n",
    "!git clone -b {gitBranch} https://github.com/chinnuba/prediction-of-heart-disease.git\n",
    "%cd prediction-of-heart-disease\n",
    "\n",
    "# Append the src directory to sys.path\n",
    "sys.path.append('src')"
   ]
  },
  {
   "cell_type": "code",
   "execution_count": null,
   "metadata": {},
   "outputs": [],
   "source": [
    "from src.setup import load_dataset\n",
    "from src.data_analysis import (\n",
    "    summarize_dataset,\n",
    "    visualize_target_distribution,\n",
    "    visualize_feature_distribution,\n",
    "    correlation_analysis,\n",
    "    feature_interaction_analysis,\n",
    "    outlier_detection,\n",
    "    distribution_analysis_by_target,\n",
    ")\n",
    "from src.data_preprocessing import preprocess_data\n",
    "from src.eda import feature_importance_analysis, perform_pca\n",
    "from src.utils import train_and_evaluate_models, compare_results, tune_and_evaluate_models\n",
    "from src.models import get_models\n",
    "from src.model_optimization import apply_smote"
   ]
  },
  {
   "cell_type": "code",
   "execution_count": null,
   "metadata": {},
   "outputs": [],
   "source": [
    "# Load dataset\n",
    "df = load_dataset(datasetFilePath)"
   ]
  },
  {
   "cell_type": "code",
   "execution_count": null,
   "metadata": {},
   "outputs": [],
   "source": [
    "# Define target and feature columns\n",
    "target_column = 'target'\n",
    "categorical_columns = ['sex', 'chest_pain_type', 'fasting_blood_sugar', 'rest_ecg', 'exercise_induced_angina', 'slope', 'vessels_colored_by_flourosopy', 'thalassemia']\n",
    "numerical_columns = ['age', 'resting_blood_pressure', 'cholestoral', 'Max_heart_rate', 'oldpeak']"
   ]
  },
  {
   "cell_type": "code",
   "execution_count": null,
   "metadata": {},
   "outputs": [],
   "source": [
    "# Run data analysis\n",
    "summarize_dataset(df)\n",
    "visualize_target_distribution(df, target_column)\n",
    "visualize_feature_distribution(df)\n",
    "correlation_analysis(df)\n",
    "feature_interaction_analysis(df, categorical_columns, target_column)\n",
    "outlier_detection(df, numerical_columns)\n",
    "distribution_analysis_by_target(df, numerical_columns, target_column)"
   ]
  },
  {
   "cell_type": "code",
   "execution_count": null,
   "metadata": {},
   "outputs": [],
   "source": [
    "# Preprocess the data\n",
    "X_train, X_test, y_train, y_test = preprocess_data(df, categorical_columns, numerical_columns, target_column)"
   ]
  },
  {
   "cell_type": "code",
   "execution_count": null,
   "metadata": {},
   "outputs": [],
   "source": [
    "# Perform feature importance analysis\n",
    "feature_names = X_train.columns\n",
    "feature_importance_analysis(X_train, y_train, feature_names)\n",
    "\n",
    "# Perform PCA\n",
    "perform_pca(X_train, y_train, n_components=2)"
   ]
  },
  {
   "cell_type": "code",
   "execution_count": null,
   "metadata": {},
   "outputs": [],
   "source": [
    "# Get the models\n",
    "models = get_models()"
   ]
  },
  {
   "cell_type": "code",
   "execution_count": null,
   "metadata": {},
   "outputs": [],
   "source": [
    "# Train and Evaluate Models\n",
    "models = get_models()\n",
    "original_results_df = train_and_evaluate_models(models, X_train, X_test, y_train, y_test, data_label=\"Original Data\")"
   ]
  },
  {
   "cell_type": "code",
   "execution_count": null,
   "metadata": {},
   "outputs": [],
   "source": [
    "# Apply SMOTE and Re-train Models\n",
    "X_resampled, y_resampled = apply_smote(X_train, y_train)\n",
    "smote_results_df = train_and_evaluate_models(models, X_resampled, X_test, y_resampled, y_test, data_label=\"After SMOTE\")"
   ]
  },
  {
   "cell_type": "code",
   "execution_count": null,
   "metadata": {},
   "outputs": [],
   "source": [
    "# Compare Results Before and After SMOTE\n",
    "comparison_df = compare_results(original_results_df, smote_results_df)"
   ]
  },
  {
   "cell_type": "code",
   "execution_count": null,
   "metadata": {},
   "outputs": [],
   "source": [
    "# Hyperparameter Tuning\n",
    "tuned_results_df = tune_and_evaluate_models(X_train, X_test, y_train, y_test)\n",
    "\n",
    "# Compare Tuned Results with Original Results\n",
    "tuned_comparison_df = compare_results(original_results_df, tuned_results_df)"
   ]
  }
 ],
 "metadata": {
  "language_info": {
   "name": "python"
  }
 },
 "nbformat": 4,
 "nbformat_minor": 2
}
