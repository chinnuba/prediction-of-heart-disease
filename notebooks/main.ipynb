{
 "cells": [
  {
   "cell_type": "code",
   "execution_count": null,
   "metadata": {},
   "outputs": [],
   "source": [
    "# Clone the repository manually\n",
    "gitBranch = 'feature/clone_repo_and_load_dataset'\n",
    "!git clone -b gitBranch https://github.com/chinnuba/prediction-of-heart-disease.git\n",
    "%cd prediction-of-heart-disease"
   ]
  },
  {
   "cell_type": "code",
   "execution_count": null,
   "metadata": {},
   "outputs": [],
   "source": [
    "from src.setup import load_dataset"
   ]
  },
  {
   "cell_type": "code",
   "execution_count": null,
   "metadata": {},
   "outputs": [],
   "source": [
    "# Load dataset\n",
    "datasetFilePath = 'data/HeartDiseaseTrain-Test.csv'\n",
    "df = load_dataset(datasetFilePath)"
   ]
  }
 ],
 "metadata": {
  "language_info": {
   "name": "python"
  }
 },
 "nbformat": 4,
 "nbformat_minor": 2
}
